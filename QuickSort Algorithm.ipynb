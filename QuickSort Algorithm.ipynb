{
 "cells": [
  {
   "cell_type": "code",
   "execution_count": 1,
   "id": "89c605b9",
   "metadata": {},
   "outputs": [
    {
     "name": "stdout",
     "output_type": "stream",
     "text": [
      "6\n",
      "6 1 5 2 4 3\n",
      "1 2 3 4 5 6\n"
     ]
    }
   ],
   "source": [
    "# Pseudo Code\n",
    "\n",
    "# algorithm(list,start,end)\n",
    "# {\n",
    "#     if end is less than or equal to start+1\n",
    "#         return from the function\n",
    "#     pivot=list[end-1]\n",
    "#     set count=0\n",
    "#     loop i from start to end-1\n",
    "#     {\n",
    "#         if list[i] is greater than pivot\n",
    "#             increase the count by 1\n",
    "#     }\n",
    "#     exchange the values between list[end-1] and list[end-count-1]\n",
    "#     set i=0 and j=end-1\n",
    "#     loop i from 0 to end-count-1 incrementing at each step\n",
    "#     {\n",
    "#         if list[i] is greater than pivot\n",
    "#         {\n",
    "#             loop j from end-1 to end-count-1 decrementing at each step\n",
    "#             {\n",
    "#                 if list[j] is less than or equal to pivot\n",
    "#                 {\n",
    "#                     exchange the values of list[i] and list[j]\n",
    "#                     break\n",
    "#                 }\n",
    "#             }\n",
    "#         }\n",
    "#     }\n",
    "#     recursively call algorithm(list,start,end-count-1) to sort the part that is less than the pivot\n",
    "#     recursively call algorithm(list,end-count,end) to sort the part that is greater than the pivot\n",
    "# }\n",
    "\n",
    "def quickSort(arr, start, end):\n",
    "    if end<=start+1:\n",
    "        return\n",
    "    p=arr[end-1]\n",
    "    count=0\n",
    "    for i in range(start,end-1):\n",
    "        if arr[i]>p:\n",
    "            count+=1\n",
    "    arr[end-1],arr[end-count-1]=arr[end-count-1],arr[end-1]\n",
    "    i,j=0,end-1\n",
    "    while i<end-count-1:\n",
    "        if arr[i]>p:\n",
    "            while j>end-count-1:\n",
    "                if arr[j]<=p:\n",
    "                    arr[i],arr[j]=arr[j],arr[i]\n",
    "                    j-=1\n",
    "                    break\n",
    "                j-=1\n",
    "        i+=1\n",
    "    quickSort(arr,start,end-count-1)\n",
    "    quickSort(arr,end-count,end)\n",
    "\n",
    "n=int(input())\n",
    "arr=list(int(i) for i in input().strip().split(' '))\n",
    "quickSort(arr, 0, n)\n",
    "print(*arr)"
   ]
  }
 ],
 "metadata": {
  "kernelspec": {
   "display_name": "Python 3 (ipykernel)",
   "language": "python",
   "name": "python3"
  },
  "language_info": {
   "codemirror_mode": {
    "name": "ipython",
    "version": 3
   },
   "file_extension": ".py",
   "mimetype": "text/x-python",
   "name": "python",
   "nbconvert_exporter": "python",
   "pygments_lexer": "ipython3",
   "version": "3.9.6"
  }
 },
 "nbformat": 4,
 "nbformat_minor": 5
}
